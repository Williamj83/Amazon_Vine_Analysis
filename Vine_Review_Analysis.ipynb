{
  "nbformat": 4,
  "nbformat_minor": 0,
  "metadata": {
    "colab": {
      "name": "Vine_Review_Analysis.ipynb",
      "provenance": [],
      "collapsed_sections": []
    },
    "kernelspec": {
      "name": "python3",
      "display_name": "Python 3"
    },
    "language_info": {
      "name": "python"
    }
  },
  "cells": [
    {
      "cell_type": "code",
      "execution_count": null,
      "metadata": {
        "id": "HWE-Qe0ae5uY",
        "colab": {
          "base_uri": "https://localhost:8080/"
        },
        "outputId": "683956a0-c3a7-4377-b417-0639230cbac2"
      },
      "outputs": [
        {
          "output_type": "stream",
          "name": "stdout",
          "text": [
            "Ign:1 https://developer.download.nvidia.com/compute/cuda/repos/ubuntu1804/x86_64  InRelease\n",
            "Get:2 https://cloud.r-project.org/bin/linux/ubuntu bionic-cran40/ InRelease [3,626 B]\n",
            "Get:3 http://security.ubuntu.com/ubuntu bionic-security InRelease [88.7 kB]\n",
            "Ign:4 https://developer.download.nvidia.com/compute/machine-learning/repos/ubuntu1804/x86_64  InRelease\n",
            "Hit:5 https://developer.download.nvidia.com/compute/cuda/repos/ubuntu1804/x86_64  Release\n",
            "Hit:6 http://archive.ubuntu.com/ubuntu bionic InRelease\n",
            "Hit:7 https://developer.download.nvidia.com/compute/machine-learning/repos/ubuntu1804/x86_64  Release\n",
            "Hit:8 http://ppa.launchpad.net/c2d4u.team/c2d4u4.0+/ubuntu bionic InRelease\n",
            "Get:9 http://archive.ubuntu.com/ubuntu bionic-updates InRelease [88.7 kB]\n",
            "Hit:10 http://ppa.launchpad.net/cran/libgit2/ubuntu bionic InRelease\n",
            "Hit:12 http://ppa.launchpad.net/deadsnakes/ppa/ubuntu bionic InRelease\n",
            "Get:13 http://archive.ubuntu.com/ubuntu bionic-backports InRelease [74.6 kB]\n",
            "Hit:15 http://ppa.launchpad.net/graphics-drivers/ppa/ubuntu bionic InRelease\n",
            "Get:16 http://security.ubuntu.com/ubuntu bionic-security/universe amd64 Packages [1,496 kB]\n",
            "Get:17 http://archive.ubuntu.com/ubuntu bionic-updates/main amd64 Packages [3,167 kB]\n",
            "Get:18 http://security.ubuntu.com/ubuntu bionic-security/main amd64 Packages [2,732 kB]\n",
            "Get:19 http://security.ubuntu.com/ubuntu bionic-security/restricted amd64 Packages [909 kB]\n",
            "Get:20 http://archive.ubuntu.com/ubuntu bionic-updates/restricted amd64 Packages [942 kB]\n",
            "Get:21 http://archive.ubuntu.com/ubuntu bionic-updates/universe amd64 Packages [2,272 kB]\n",
            "Fetched 11.8 MB in 7s (1,734 kB/s)\n",
            "Reading package lists... Done\n"
          ]
        }
      ],
      "source": [
        "import os\n",
        "# Find the latest version of spark 3.0 from http://www.apache.org/dist/spark/ and enter as the spark version\n",
        "# For example:\n",
        "# spark_version = 'spark-3.2.1'\n",
        "spark_version = 'spark-3.2.1'\n",
        "os.environ['SPARK_VERSION']=spark_version\n",
        "\n",
        "# Install Spark and Java\n",
        "!apt-get update\n",
        "!apt-get install openjdk-11-jdk-headless -qq > /dev/null\n",
        "!wget -q http://www.apache.org/dist/spark/$SPARK_VERSION/$SPARK_VERSION-bin-hadoop2.7.tgz\n",
        "!tar xf $SPARK_VERSION-bin-hadoop2.7.tgz\n",
        "!pip install -q findspark\n",
        "\n",
        "# Set Environment Variables\n",
        "import os\n",
        "os.environ[\"JAVA_HOME\"] = \"/usr/lib/jvm/java-11-openjdk-amd64\"\n",
        "os.environ[\"SPARK_HOME\"] = f\"/content/{spark_version}-bin-hadoop2.7\"\n",
        "\n",
        "# Start a SparkSession\n",
        "import findspark\n",
        "findspark.init()"
      ]
    },
    {
      "cell_type": "code",
      "source": [
        "# Download the Postgres driver that will allow Spark to interact with Postgres.\n",
        "!wget https://jdbc.postgresql.org/download/postgresql-42.2.16.jar"
      ],
      "metadata": {
        "id": "idq3l8cKfMTU",
        "colab": {
          "base_uri": "https://localhost:8080/"
        },
        "outputId": "861d905a-716c-45ef-d489-e05b240ffb92"
      },
      "execution_count": null,
      "outputs": [
        {
          "output_type": "stream",
          "name": "stdout",
          "text": [
            "--2022-04-27 01:37:04--  https://jdbc.postgresql.org/download/postgresql-42.2.16.jar\n",
            "Resolving jdbc.postgresql.org (jdbc.postgresql.org)... 72.32.157.228, 2001:4800:3e1:1::228\n",
            "Connecting to jdbc.postgresql.org (jdbc.postgresql.org)|72.32.157.228|:443... connected.\n",
            "HTTP request sent, awaiting response... 200 OK\n",
            "Length: 1002883 (979K) [application/java-archive]\n",
            "Saving to: ‘postgresql-42.2.16.jar’\n",
            "\n",
            "postgresql-42.2.16. 100%[===================>] 979.38K  1.23MB/s    in 0.8s    \n",
            "\n",
            "2022-04-27 01:37:06 (1.23 MB/s) - ‘postgresql-42.2.16.jar’ saved [1002883/1002883]\n",
            "\n"
          ]
        }
      ]
    },
    {
      "cell_type": "code",
      "source": [
        "# start a Spark session\n",
        "from pyspark.sql import SparkSession\n",
        "spark = SparkSession.builder.appName(\"M16-Challenge_Deliverable2\").config(\"spark.driver.extraClassPath\",\"/content/postgresql-42.2.16.jar\").getOrCreate()"
      ],
      "metadata": {
        "id": "9eKvIiuMfSTL"
      },
      "execution_count": null,
      "outputs": []
    },
    {
      "cell_type": "code",
      "source": [
        "# Load in data from S3 bucket\n",
        "from pyspark import SparkFiles\n",
        "url = \"https://s3.amazonaws.com/amazon-reviews-pds/tsv/amazon_reviews_us_Lawn_and_Garden_v1_00.tsv.gz\"\n",
        "spark.sparkContext.addFile(url)\n",
        "df = spark.read.option(\"encoding\", \"UTF-8\").csv(SparkFiles.get(\"amazon_reviews_us_Lawn_and_Garden_v1_00.tsv.gz\"), sep=\"\\t\", header=True, inferSchema=True)\n",
        "df.show(20,truncate=False)"
      ],
      "metadata": {
        "colab": {
          "base_uri": "https://localhost:8080/"
        },
        "id": "HrmEpex7pxjc",
        "outputId": "bdbd741c-91d1-4442-e146-12d043ff2e51"
      },
      "execution_count": 8,
      "outputs": [
        {
          "output_type": "stream",
          "name": "stdout",
          "text": [
            "+-----------+-----------+--------------+----------+--------------+-------------------------------------------------------------------------------------------------------------------------------------------------------------+----------------+-----------+-------------+-----------+----+-----------------+-----------------------------------------------------------------+---------------------------------------------------------------------------------------------------------------------------------------------------------------------------------------------------------------------------------------------------------------------------------------------------------------------------------------------------------------------------------------------------------------------------------------------------------------------------------------------------------------------------------------------------------------------------------------------------------------------------------------------------------------------------------+-----------+\n",
            "|marketplace|customer_id|review_id     |product_id|product_parent|product_title                                                                                                                                                |product_category|star_rating|helpful_votes|total_votes|vine|verified_purchase|review_headline                                                  |review_body                                                                                                                                                                                                                                                                                                                                                                                                                                                                                                                                                                                                                                                                      |review_date|\n",
            "+-----------+-----------+--------------+----------+--------------+-------------------------------------------------------------------------------------------------------------------------------------------------------------+----------------+-----------+-------------+-----------+----+-----------------+-----------------------------------------------------------------+---------------------------------------------------------------------------------------------------------------------------------------------------------------------------------------------------------------------------------------------------------------------------------------------------------------------------------------------------------------------------------------------------------------------------------------------------------------------------------------------------------------------------------------------------------------------------------------------------------------------------------------------------------------------------------+-----------+\n",
            "|US         |32787517   |RED72VWWCOS7S |B008HDQYLQ|348668413     |Garden Weasel Garden Claw                                                                                                                                    |Lawn and Garden |1          |2            |8          |N   |Y                |One Star                                                         |I don't hate the product I hate the seller.                                                                                                                                                                                                                                                                                                                                                                                                                                                                                                                                                                                                                                      |2015-08-31 |\n",
            "|US         |16374060   |RZHWQ208LTEPV |B005OBZBD6|264704759     |10 Foot Mc4 Solar Cable for Photovoltaic Solar Panels with Mc4 Solar Connector Cable 10 Feet Long and Mc4 Connectors At Each End.                            |Lawn and Garden |5          |0            |0          |N   |Y                |Five Stars                                                       |worked great                                                                                                                                                                                                                                                                                                                                                                                                                                                                                                                                                                                                                                                                     |2015-08-31 |\n",
            "|US         |9984817    |R37LBC3XAVLYOO|B00RQL8U2G|95173602      |GE String A Long 100 Count Indoor / Outdoor Mini Clear White Holiday Lights Set on Green Wire (2 Pack)                                                       |Lawn and Garden |5          |4            |5          |N   |Y                |just what i needed it to be. high quality ...                    |just what i needed it to be.  high quality light string.  We use it daily on some of our trees and they last about 6 months of daily use.                                                                                                                                                                                                                                                                                                                                                                                                                                                                                                                                        |2015-08-31 |\n",
            "|US         |12635190   |R3L7XJMA0MVJWC|B0081SBO4Y|835659279     |Key Pair Lawn With Indak Key Switch For Mtd Kohler Briggs Husqvarna Roper Ayp                                                                                |Lawn and Garden |5          |0            |0          |N   |Y                |Keys                                                             |Needed replacement. Thanks.                                                                                                                                                                                                                                                                                                                                                                                                                                                                                                                                                                                                                                                      |2015-08-31 |\n",
            "|US         |43905102   |R2I2GHSI7T1UBN|B008E6OK3U|539243347     |Zodiac R0502300 Large Collar with O-Ring Replacement for Select Zodiac Nature2 Water Sanitizer                                                               |Lawn and Garden |1          |5            |6          |N   |Y                |Too expensive                                                    |Assuming you don't need the plastic cap, the gasket can easily be replaced by standard o ring dash 344 and liberal application of lube.  I purchased a pack of 25 o rings for $18.                                                                                                                                                                                                                                                                                                                                                                                                                                                                                               |2015-08-31 |\n",
            "|US         |52596997   |R2GFFKHK4I6VMX|B00W6NTULY|337446474     |Hirts Gardens Sweet Bay Laurel Herb Plant Laurus Nobilis Clay Pot, 6\"                                                                                        |Lawn and Garden |5          |0            |0          |N   |Y                |Nice                                                             |Beautifully packaged. Fast shipping. Nice healthy plant. Very happy with purchase!                                                                                                                                                                                                                                                                                                                                                                                                                                                                                                                                                                                               |2015-08-31 |\n",
            "|US         |43871104   |R1R0UDX2XAN1S4|B00GXUMYKA|468857193     |AGPtEK 12 PCS Smokeless Waterproof Floating LED Tealight Candle Wedding Holiday Christmas Xmas Party Decoration Floral Flameless-Cool White/Warm White/Yellow|Lawn and Garden |4          |0            |0          |N   |Y                |These were pretty awesome im giving 4 star because one didnt work|These were pretty awesome  im giving 4 star because one didnt work.                                                                                                                                                                                                                                                                                                                                                                                                                                                                                                                                                                                                              |2015-08-31 |\n",
            "|US         |11346008   |R22C8FMBSTFRY8|B005EIX8JS|125753094     |Design Toscano Easter Island Moai Monolith Sculpture                                                                                                         |Lawn and Garden |5          |2            |2          |N   |Y                |Kids love it. WIsh it was a little heavier maybe.                |Its in the center of my landscaping overlooking the pool from behind above my waterfall feature and above my 8 foot palms.  Wife think it looks funny - but my elementary age kids love it - especially since they relate to the Night of the Museum movie trilogy. But i think size wise its a good size realtive to my pool and in scale to compare to the real deal.  Its a solid 4 feet tall!.  It looks great - and fairly light ~35-40lbs.  I was able to carry it by myself.<br /><br />My only concern: it might tip over duiring the windy days...as i have it atop of my mulch so its a little wobbly. Wish there was a place to anchor it down - ideally with a stake.|2015-08-31 |\n",
            "|US         |49206471   |R118NNIQ75XPGO|B000HJBKMQ|834273114     |TERRO T300 Liquid Ant Baits - 6 Pack                                                                                                                         |Lawn and Garden |3          |0            |0          |N   |Y                |A little messy                                                   |The ants were attracted to it, but it was a little messy and I spilled some on the counter. I wish the opening would not allow for the liquid to pour out so easily. After several days there were still ants so it did not get rid of all of them.                                                                                                                                                                                                                                                                                                                                                                                                                              |2015-08-31 |\n",
            "|US         |37596267   |R30HYXHZQ49621|B004LY59V6|612086079     |BLACK+DECKER LBXR20 20V MAX 1.5Ah Lithium Ion Tool Battery                                                                                                   |Lawn and Garden |2          |0            |0          |N   |Y                |Does not hold a charge for very long                             |This is advertised to hold a one hour charge. I'm lucky to get 15 minutes out of a charge when I use it in my B&D string trimmer.                                                                                                                                                                                                                                                                                                                                                                                                                                                                                                                                                |2015-08-31 |\n",
            "|US         |31554283   |R3EMLKY0GF1E90|B00CAVM85M|280334010     |Reach 'n Spray Pest Control Spray by Bosque                                                                                                                  |Lawn and Garden |5          |0            |0          |N   |Y                |Five Stars                                                       |Well made product that preformed better than expected. I was very pleased!!!                                                                                                                                                                                                                                                                                                                                                                                                                                                                                                                                                                                                     |2015-08-31 |\n",
            "|US         |43211735   |R23BX7EGJMGQJR|B00DP6X1LG|233116679     |Puro-Kleen Ultra-Guard Premium Pond & Aquarium Filter Media 12 inches x 6 Feet                                                                               |Lawn and Garden |5          |1            |2          |N   |Y                |It's easy to cut and seems substantial                           |I used this for a fountain filter.  It's easy to cut and seems substantial.  Time will tell if it lasts, but so far it's working well.                                                                                                                                                                                                                                                                                                                                                                                                                                                                                                                                           |2015-08-31 |\n",
            "|US         |25705116   |R2Z4B6SDEAZF6E|B00025H2PY|592807498     |Diatomaceous Earth Food Grade 10 Lb                                                                                                                          |Lawn and Garden |5          |0            |0          |N   |Y                |Five Stars                                                       |Great stuff. Gets rid of my tummy bugs and real bugs outside/inside.                                                                                                                                                                                                                                                                                                                                                                                                                                                                                                                                                                                                             |2015-08-31 |\n",
            "|US         |47041108   |R35289PGJERP5J|B0079GHJXY|408290044     |Perky-Pet 312C Panorama Bird Feeder, Copper                                                                                                                  |Lawn and Garden |5          |0            |0          |N   |Y                |Five Stars                                                       |Very good quality                                                                                                                                                                                                                                                                                                                                                                                                                                                                                                                                                                                                                                                                |2015-08-31 |\n",
            "|US         |1534667    |R39BPRMDKKIZL2|B004HFJ762|404737140     |Crossbow Dow Specialty Herbicide                                                                                                                             |Lawn and Garden |1          |4            |6          |N   |Y                |Wrong Product- Not as Described or Depicted                      |This product was not the product made by Dow Agrosciences as described and shown in the picture. The EPA registration number is not the same as the product that i recieved, therefore my permit from the New York State Department of Environmental Conservation was null and void. I would not purchase this product again.                                                                                                                                                                                                                                                                                                                                                    |2015-08-31 |\n",
            "|US         |52287759   |R6WFPPBS1DZMG |B00004RAGL|773636542     |Apex REM 15 15-Foot Connector Hose Remnants, Colors May Vary                                                                                                 |Lawn and Garden |5          |0            |0          |N   |Y                |dehumidifier drain hose                                          |the hose worked well when hooked up the drain of a dehumidifier.                                                                                                                                                                                                                                                                                                                                                                                                                                                                                                                                                                                                                 |2015-08-31 |\n",
            "|US         |37010286   |RK72M0ZBV9YLS |B010PWBNNK|461072629     |Elucto Electric Bug Zapper Fly Swatter Zap Mosquito Zapper Best for Indoor and Outdoor Pest Control                                                          |Lawn and Garden |1          |3            |3          |N   |Y                |not easy it seems                                                |I haven't killed one fly yet, not easy it seems.                                                                                                                                                                                                                                                                                                                                                                                                                                                                                                                                                                                                                                 |2015-08-31 |\n",
            "|US         |30576559   |RX5G150AUWRDJ |B00T77AWY6|365662076     |Ohuhu® 100 Ft Expandable Garden Hose with Brass Connector & Spray Nozzle                                                                                     |Lawn and Garden |1          |0            |0          |N   |Y                |Five Stars                                                       |I m very disappointed,  the hose broke after few weeks and I have tape on it                                                                                                                                                                                                                                                                                                                                                                                                                                                                                                                                                                                                     |2015-08-31 |\n",
            "|US         |10291713   |R1TMSZWIT21A31|B000UJH6HQ|228393894     |Toro 53746 Drip Battery Operated Hose End Timer                                                                                                              |Lawn and Garden |3          |1            |2          |N   |Y                |Could be better                                                  |this is the fourth one I bought. I use them with my rain barrel drip system to water my garden and they work well but seem to only last for about 1 year to maybe 18 months. that's why only 3 stars. I have two drip systems so I have replaced them both now. It is the only timer that I have found that works with a gravity system (no water pressure). that is why I keep buying them. I wish the quality was a little better and they lasted longer.                                                                                                                                                                                                                      |2015-08-31 |\n",
            "|US         |50656780   |R2FURVPW763CIM|B000HJBKMQ|834273114     |TERRO T300 Liquid Ant Baits - 6 Pack                                                                                                                         |Lawn and Garden |5          |0            |0          |N   |Y                |Sugar Ants are horrible                                          |Best thing you can get for those crazy Brazillian Sugar Ants that like to come inside every Spring. They love this. Just be sure to get it near their path, but where any pets cannot get to it.                                                                                                                                                                                                                                                                                                                                                                                                                                                                                 |2015-08-31 |\n",
            "+-----------+-----------+--------------+----------+--------------+-------------------------------------------------------------------------------------------------------------------------------------------------------------+----------------+-----------+-------------+-----------+----+-----------------+-----------------------------------------------------------------+---------------------------------------------------------------------------------------------------------------------------------------------------------------------------------------------------------------------------------------------------------------------------------------------------------------------------------------------------------------------------------------------------------------------------------------------------------------------------------------------------------------------------------------------------------------------------------------------------------------------------------------------------------------------------------+-----------+\n",
            "only showing top 20 rows\n",
            "\n"
          ]
        }
      ]
    },
    {
      "cell_type": "code",
      "source": [
        "# Create the vine_table DataFrame\n",
        "vine_df = df.select(['review_id','star_rating','helpful_votes','total_votes','vine','verified_purchase'])\n",
        "vine_df.show(truncate=False)"
      ],
      "metadata": {
        "colab": {
          "base_uri": "https://localhost:8080/"
        },
        "id": "25R9y-3-q_gf",
        "outputId": "8dd363e0-b907-4cea-e64f-e1a7ed482190"
      },
      "execution_count": 9,
      "outputs": [
        {
          "output_type": "stream",
          "name": "stdout",
          "text": [
            "+--------------+-----------+-------------+-----------+----+-----------------+\n",
            "|review_id     |star_rating|helpful_votes|total_votes|vine|verified_purchase|\n",
            "+--------------+-----------+-------------+-----------+----+-----------------+\n",
            "|RED72VWWCOS7S |1          |2            |8          |N   |Y                |\n",
            "|RZHWQ208LTEPV |5          |0            |0          |N   |Y                |\n",
            "|R37LBC3XAVLYOO|5          |4            |5          |N   |Y                |\n",
            "|R3L7XJMA0MVJWC|5          |0            |0          |N   |Y                |\n",
            "|R2I2GHSI7T1UBN|1          |5            |6          |N   |Y                |\n",
            "|R2GFFKHK4I6VMX|5          |0            |0          |N   |Y                |\n",
            "|R1R0UDX2XAN1S4|4          |0            |0          |N   |Y                |\n",
            "|R22C8FMBSTFRY8|5          |2            |2          |N   |Y                |\n",
            "|R118NNIQ75XPGO|3          |0            |0          |N   |Y                |\n",
            "|R30HYXHZQ49621|2          |0            |0          |N   |Y                |\n",
            "|R3EMLKY0GF1E90|5          |0            |0          |N   |Y                |\n",
            "|R23BX7EGJMGQJR|5          |1            |2          |N   |Y                |\n",
            "|R2Z4B6SDEAZF6E|5          |0            |0          |N   |Y                |\n",
            "|R35289PGJERP5J|5          |0            |0          |N   |Y                |\n",
            "|R39BPRMDKKIZL2|1          |4            |6          |N   |Y                |\n",
            "|R6WFPPBS1DZMG |5          |0            |0          |N   |Y                |\n",
            "|RK72M0ZBV9YLS |1          |3            |3          |N   |Y                |\n",
            "|RX5G150AUWRDJ |1          |0            |0          |N   |Y                |\n",
            "|R1TMSZWIT21A31|3          |1            |2          |N   |Y                |\n",
            "|R2FURVPW763CIM|5          |0            |0          |N   |Y                |\n",
            "+--------------+-----------+-------------+-----------+----+-----------------+\n",
            "only showing top 20 rows\n",
            "\n"
          ]
        }
      ]
    },
    {
      "cell_type": "code",
      "source": [
        "# filter for only columns with 20 or more total votes\n",
        "clean_vine_df = vine_df.filter(vine_df[\"total_votes\"]>=20)\n",
        "clean_vine_df.show(truncate=False)"
      ],
      "metadata": {
        "colab": {
          "base_uri": "https://localhost:8080/"
        },
        "id": "UBwLSxTTsrUz",
        "outputId": "3a054a02-ba0d-4287-fd38-64ff2c5b4ce0"
      },
      "execution_count": 10,
      "outputs": [
        {
          "output_type": "stream",
          "name": "stdout",
          "text": [
            "+--------------+-----------+-------------+-----------+----+-----------------+\n",
            "|review_id     |star_rating|helpful_votes|total_votes|vine|verified_purchase|\n",
            "+--------------+-----------+-------------+-----------+----+-----------------+\n",
            "|RQQ3KVTU5TJ4I |5          |24           |29         |N   |Y                |\n",
            "|R3FELXWV9T5CWE|2          |22           |24         |N   |Y                |\n",
            "|ROBYK6EZYK398 |5          |29           |30         |N   |Y                |\n",
            "|R2RKCSAG6GBA4A|1          |8            |28         |N   |Y                |\n",
            "|R2YVBBR6NXIA4V|5          |25           |28         |N   |N                |\n",
            "|R2AVTBDIVG2AW4|5          |26           |26         |N   |N                |\n",
            "|R1Z2LNN3FANMTO|1          |20           |24         |N   |N                |\n",
            "|RLNULBKRWNNR  |5          |42           |43         |N   |Y                |\n",
            "|R9QNQUL94RX1F |3          |27           |33         |N   |Y                |\n",
            "|RTULFZTUS1VBP |5          |51           |52         |N   |Y                |\n",
            "|R1BM9RBQWI62O2|5          |43           |60         |N   |N                |\n",
            "|RWB6V9IYCOJFX |4          |39           |41         |N   |Y                |\n",
            "|R15FA7GCXKC7YE|1          |40           |41         |N   |Y                |\n",
            "|R2OQAI6AV8AH8Z|1          |19           |32         |N   |Y                |\n",
            "|R2XD5CWZ4Z87ZR|5          |19           |25         |N   |Y                |\n",
            "|R3LLBXVCEY5JKB|1          |33           |35         |N   |Y                |\n",
            "|RQWM8U7YH93TT |4          |92           |93         |N   |N                |\n",
            "|R2DEO6P7BEZ9UI|5          |38           |38         |N   |Y                |\n",
            "|R2CKYIHUSK3IEP|1          |74           |88         |N   |Y                |\n",
            "|RY0DMUQKNF8MT |5          |32           |33         |N   |Y                |\n",
            "+--------------+-----------+-------------+-----------+----+-----------------+\n",
            "only showing top 20 rows\n",
            "\n"
          ]
        }
      ]
    },
    {
      "cell_type": "code",
      "source": [
        "# filter for only columns with mostly helpful votes\n",
        "helpful_vine_df = clean_vine_df.filter(\"helpful_votes/total_votes>=0.5\")\n",
        "helpful_vine_df.show(truncate=False)"
      ],
      "metadata": {
        "colab": {
          "base_uri": "https://localhost:8080/"
        },
        "id": "N0xukw-IsvaK",
        "outputId": "bdad0277-8acf-4692-bbb2-b2dd77b81936"
      },
      "execution_count": 11,
      "outputs": [
        {
          "output_type": "stream",
          "name": "stdout",
          "text": [
            "+--------------+-----------+-------------+-----------+----+-----------------+\n",
            "|review_id     |star_rating|helpful_votes|total_votes|vine|verified_purchase|\n",
            "+--------------+-----------+-------------+-----------+----+-----------------+\n",
            "|RQQ3KVTU5TJ4I |5          |24           |29         |N   |Y                |\n",
            "|R3FELXWV9T5CWE|2          |22           |24         |N   |Y                |\n",
            "|ROBYK6EZYK398 |5          |29           |30         |N   |Y                |\n",
            "|R2YVBBR6NXIA4V|5          |25           |28         |N   |N                |\n",
            "|R2AVTBDIVG2AW4|5          |26           |26         |N   |N                |\n",
            "|R1Z2LNN3FANMTO|1          |20           |24         |N   |N                |\n",
            "|RLNULBKRWNNR  |5          |42           |43         |N   |Y                |\n",
            "|R9QNQUL94RX1F |3          |27           |33         |N   |Y                |\n",
            "|RTULFZTUS1VBP |5          |51           |52         |N   |Y                |\n",
            "|R1BM9RBQWI62O2|5          |43           |60         |N   |N                |\n",
            "|RWB6V9IYCOJFX |4          |39           |41         |N   |Y                |\n",
            "|R15FA7GCXKC7YE|1          |40           |41         |N   |Y                |\n",
            "|R2OQAI6AV8AH8Z|1          |19           |32         |N   |Y                |\n",
            "|R2XD5CWZ4Z87ZR|5          |19           |25         |N   |Y                |\n",
            "|R3LLBXVCEY5JKB|1          |33           |35         |N   |Y                |\n",
            "|RQWM8U7YH93TT |4          |92           |93         |N   |N                |\n",
            "|R2DEO6P7BEZ9UI|5          |38           |38         |N   |Y                |\n",
            "|R2CKYIHUSK3IEP|1          |74           |88         |N   |Y                |\n",
            "|RY0DMUQKNF8MT |5          |32           |33         |N   |Y                |\n",
            "|R33XCAJDTPOUQS|5          |22           |23         |N   |Y                |\n",
            "+--------------+-----------+-------------+-----------+----+-----------------+\n",
            "only showing top 20 rows\n",
            "\n"
          ]
        }
      ]
    },
    {
      "cell_type": "code",
      "source": [
        "# load in a sql function to use columns \n",
        "from pyspark.sql.functions import col\n",
        "\n",
        "# Filter new DF that retrieves all rows where review for Vine(paid) column with vine == \"Y\"\n",
        "helpful_vine_paid_df = helpful_vine_df.filter(col(\"vine\") == 'Y')\n",
        "helpful_vine_paid_df.show(truncate=False)"
      ],
      "metadata": {
        "colab": {
          "base_uri": "https://localhost:8080/"
        },
        "id": "boHKhI7As3Fb",
        "outputId": "7e1547a7-a1a8-4a19-eded-774fc27a8f03"
      },
      "execution_count": 12,
      "outputs": [
        {
          "output_type": "stream",
          "name": "stdout",
          "text": [
            "+--------------+-----------+-------------+-----------+----+-----------------+\n",
            "|review_id     |star_rating|helpful_votes|total_votes|vine|verified_purchase|\n",
            "+--------------+-----------+-------------+-----------+----+-----------------+\n",
            "|R28DXTC3JQ9IY1|4          |24           |26         |Y   |N                |\n",
            "|R3AFZKLQXATHBU|5          |44           |49         |Y   |N                |\n",
            "|R2RUUF2JPJPC0E|4          |20           |22         |Y   |N                |\n",
            "|RFZ2WUH4248AB |2          |26           |27         |Y   |N                |\n",
            "|R1Q4LVHIFOWYFR|5          |23           |28         |Y   |N                |\n",
            "|R4YEPTQED3X1Q |5          |19           |20         |Y   |N                |\n",
            "|R2Z7C8YCRSC9DP|5          |22           |22         |Y   |N                |\n",
            "|R3J8OI5CB74P5K|1          |22           |25         |Y   |N                |\n",
            "|RH39LMKN6AZDC |5          |33           |40         |Y   |N                |\n",
            "|R8RD8K0ESJSRD |5          |21           |21         |Y   |N                |\n",
            "|R6P04SW0Z1FCR |5          |20           |25         |Y   |N                |\n",
            "|R32LMNP5ZU2F6G|3          |33           |37         |Y   |N                |\n",
            "|R21L9F1CIGVQ7H|5          |35           |45         |Y   |N                |\n",
            "|R3407EU7EKOUMA|4          |31           |40         |Y   |N                |\n",
            "|RDFMCB5Q7U0UW |4          |152          |155        |Y   |N                |\n",
            "|R2U38GEWPJG6JI|5          |63           |66         |Y   |N                |\n",
            "|R1E24YIQRGSP10|5          |30           |40         |Y   |N                |\n",
            "|R3L7PBHQGA3LB0|3          |14           |20         |Y   |N                |\n",
            "|R91BX5ZLRONPJ |4          |16           |21         |Y   |N                |\n",
            "|R1P31XRPGIF50W|4          |33           |38         |Y   |N                |\n",
            "+--------------+-----------+-------------+-----------+----+-----------------+\n",
            "only showing top 20 rows\n",
            "\n"
          ]
        }
      ]
    },
    {
      "cell_type": "code",
      "source": [
        "# Filter new DF that retrieves all rows where review for Vine(unpaid) column with vine == \"N\"\n",
        "\n",
        "helpful_vine_unpaid_df = helpful_vine_df.filter(col(\"vine\") == 'N')\n",
        "helpful_vine_unpaid_df.show(truncate=False)"
      ],
      "metadata": {
        "colab": {
          "base_uri": "https://localhost:8080/"
        },
        "id": "Q331tTB4tA-G",
        "outputId": "19537d2d-ade1-4434-9008-8d011bbeb0cd"
      },
      "execution_count": 13,
      "outputs": [
        {
          "output_type": "stream",
          "name": "stdout",
          "text": [
            "+--------------+-----------+-------------+-----------+----+-----------------+\n",
            "|review_id     |star_rating|helpful_votes|total_votes|vine|verified_purchase|\n",
            "+--------------+-----------+-------------+-----------+----+-----------------+\n",
            "|RQQ3KVTU5TJ4I |5          |24           |29         |N   |Y                |\n",
            "|R3FELXWV9T5CWE|2          |22           |24         |N   |Y                |\n",
            "|ROBYK6EZYK398 |5          |29           |30         |N   |Y                |\n",
            "|R2YVBBR6NXIA4V|5          |25           |28         |N   |N                |\n",
            "|R2AVTBDIVG2AW4|5          |26           |26         |N   |N                |\n",
            "|R1Z2LNN3FANMTO|1          |20           |24         |N   |N                |\n",
            "|RLNULBKRWNNR  |5          |42           |43         |N   |Y                |\n",
            "|R9QNQUL94RX1F |3          |27           |33         |N   |Y                |\n",
            "|RTULFZTUS1VBP |5          |51           |52         |N   |Y                |\n",
            "|R1BM9RBQWI62O2|5          |43           |60         |N   |N                |\n",
            "|RWB6V9IYCOJFX |4          |39           |41         |N   |Y                |\n",
            "|R15FA7GCXKC7YE|1          |40           |41         |N   |Y                |\n",
            "|R2OQAI6AV8AH8Z|1          |19           |32         |N   |Y                |\n",
            "|R2XD5CWZ4Z87ZR|5          |19           |25         |N   |Y                |\n",
            "|R3LLBXVCEY5JKB|1          |33           |35         |N   |Y                |\n",
            "|RQWM8U7YH93TT |4          |92           |93         |N   |N                |\n",
            "|R2DEO6P7BEZ9UI|5          |38           |38         |N   |Y                |\n",
            "|R2CKYIHUSK3IEP|1          |74           |88         |N   |Y                |\n",
            "|RY0DMUQKNF8MT |5          |32           |33         |N   |Y                |\n",
            "|R33XCAJDTPOUQS|5          |22           |23         |N   |Y                |\n",
            "+--------------+-----------+-------------+-----------+----+-----------------+\n",
            "only showing top 20 rows\n",
            "\n"
          ]
        }
      ]
    },
    {
      "cell_type": "code",
      "source": [
        "# Determine total number of reviews\n",
        "helpful_vine_df.count()"
      ],
      "metadata": {
        "colab": {
          "base_uri": "https://localhost:8080/"
        },
        "id": "Nr_bSQDztF9C",
        "outputId": "9f7cff68-c34d-4206-fe94-1c498f91e3da"
      },
      "execution_count": 14,
      "outputs": [
        {
          "output_type": "execute_result",
          "data": {
            "text/plain": [
              "49103"
            ]
          },
          "metadata": {},
          "execution_count": 14
        }
      ]
    },
    {
      "cell_type": "code",
      "source": [
        "# Determine total number of paid reviews\n",
        "helpful_vine_paid_df.count()"
      ],
      "metadata": {
        "colab": {
          "base_uri": "https://localhost:8080/"
        },
        "id": "bNP8UOVHtK41",
        "outputId": "35a65ca4-daf6-4273-c19d-f7d8609c24e7"
      },
      "execution_count": 15,
      "outputs": [
        {
          "output_type": "execute_result",
          "data": {
            "text/plain": [
              "386"
            ]
          },
          "metadata": {},
          "execution_count": 15
        }
      ]
    },
    {
      "cell_type": "code",
      "source": [
        "# Determine total number of unpaid reviews\n",
        "helpful_vine_unpaid_df.count()"
      ],
      "metadata": {
        "colab": {
          "base_uri": "https://localhost:8080/"
        },
        "id": "QipuW_KJtO70",
        "outputId": "85da31d2-c638-47bb-fc28-8746eab720b7"
      },
      "execution_count": 16,
      "outputs": [
        {
          "output_type": "execute_result",
          "data": {
            "text/plain": [
              "48717"
            ]
          },
          "metadata": {},
          "execution_count": 16
        }
      ]
    },
    {
      "cell_type": "code",
      "source": [
        "# Determine number of 5-star reviews\n",
        "helpful_vine_df.filter(col(\"star_rating\") == 5).count()"
      ],
      "metadata": {
        "colab": {
          "base_uri": "https://localhost:8080/"
        },
        "id": "I8ykxuT-tP_i",
        "outputId": "c7d2271b-135c-45bd-c37f-83825de56451"
      },
      "execution_count": 17,
      "outputs": [
        {
          "output_type": "execute_result",
          "data": {
            "text/plain": [
              "24202"
            ]
          },
          "metadata": {},
          "execution_count": 17
        }
      ]
    },
    {
      "cell_type": "code",
      "source": [
        "# Determine number of paid 5-star reviews\n",
        "helpful_vine_paid_df.filter(col(\"star_rating\") == 5).count()"
      ],
      "metadata": {
        "colab": {
          "base_uri": "https://localhost:8080/"
        },
        "id": "FfG7ZBZRtS8e",
        "outputId": "0562030a-b902-44fa-b315-db4999b94574"
      },
      "execution_count": 18,
      "outputs": [
        {
          "output_type": "execute_result",
          "data": {
            "text/plain": [
              "176"
            ]
          },
          "metadata": {},
          "execution_count": 18
        }
      ]
    },
    {
      "cell_type": "code",
      "source": [
        "# Determine number of unpaid 5-star reviews\n",
        "helpful_vine_unpaid_df.filter(col(\"star_rating\") == 5).count()"
      ],
      "metadata": {
        "colab": {
          "base_uri": "https://localhost:8080/"
        },
        "id": "7SKd8VK9tchM",
        "outputId": "71138f79-6afc-46aa-97c5-03105f3b9052"
      },
      "execution_count": 19,
      "outputs": [
        {
          "output_type": "execute_result",
          "data": {
            "text/plain": [
              "24026"
            ]
          },
          "metadata": {},
          "execution_count": 19
        }
      ]
    },
    {
      "cell_type": "code",
      "source": [
        "#Determine percentage of 5-star paid reviews\n",
        "a = helpful_vine_paid_df.count()\n",
        "b = helpful_vine_paid_df.filter(col(\"star_rating\") == 5).count()\n",
        "percentage_paid = b/a*100\n",
        "print(str(round(percentage_paid,2)) + \"% of paid reviews are 5-stars\")"
      ],
      "metadata": {
        "colab": {
          "base_uri": "https://localhost:8080/"
        },
        "id": "WUsLw-aithCG",
        "outputId": "bb2bed1e-28c1-4f5e-ec88-76711d70524e"
      },
      "execution_count": 20,
      "outputs": [
        {
          "output_type": "stream",
          "name": "stdout",
          "text": [
            "45.6% of paid reviews are 5-stars\n"
          ]
        }
      ]
    },
    {
      "cell_type": "code",
      "source": [
        "# Determine percentage of 5-star unpaid reviews\n",
        "c = helpful_vine_unpaid_df.count()\n",
        "d = helpful_vine_unpaid_df.filter(col(\"star_rating\") == 5).count()\n",
        "percentage_unpaid = d/c * 100\n",
        "print(str(round(percentage_unpaid,2)) + \"% of unpaid reviews are 5-stars\")"
      ],
      "metadata": {
        "colab": {
          "base_uri": "https://localhost:8080/"
        },
        "id": "xknXKmlDtk5e",
        "outputId": "ad3ba7ee-9311-4916-9f5a-198590163922"
      },
      "execution_count": 21,
      "outputs": [
        {
          "output_type": "stream",
          "name": "stdout",
          "text": [
            "49.32% of unpaid reviews are 5-stars\n"
          ]
        }
      ]
    }
  ]
}